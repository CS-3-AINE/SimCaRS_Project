{
 "cells": [
  {
   "cell_type": "code",
   "execution_count": null,
   "metadata": {},
   "outputs": [],
   "source": [
    "# Configure.\n",
    "from ray.rllib.algorithms.a3c import A3CConfig\n",
    "config = A3CConfig().environment(env=\"CartPole-v1\").training(train_batch_size=4000).framework(\"tf2\")\n",
    "\n",
    "# Build.\n",
    "algo = config.build()\n",
    "\n",
    "# Train.\n",
    "while True:\n",
    "    print(algo.train())"
   ]
  },
  {
   "cell_type": "code",
   "execution_count": 1,
   "metadata": {},
   "outputs": [
    {
     "name": "stdout",
     "output_type": "stream",
     "text": [
      "[ObservationSpec(shape=(60,), dimension_property=(<DimensionProperty.NONE: 1>,), observation_type=<ObservationType.DEFAULT: 0>, name='StackingSensor_size3_RayPerceptionSensor'), ObservationSpec(shape=(735,), dimension_property=(<DimensionProperty.NONE: 1>,), observation_type=<ObservationType.DEFAULT: 0>, name='StackingSensor_size7_RayPerceptionSensor'), ObservationSpec(shape=(1,), dimension_property=(<DimensionProperty.NONE: 1>,), observation_type=<ObservationType.DEFAULT: 0>, name='VectorSensor_size1')]\n"
     ]
    }
   ],
   "source": [
    "from mlagents_envs.environment import UnityEnvironment\n",
    "env = UnityEnvironment(\"build\\game\")\n",
    "env.reset()\n",
    "behavior_name = list(env.behavior_specs)[0]\n",
    "# print(behavior_name)\n",
    "specs = env.behavior_specs[behavior_name]\n",
    "print(specs.observation_specs)\n",
    "env.close()"
   ]
  },
  {
   "cell_type": "code",
   "execution_count": 5,
   "metadata": {},
   "outputs": [],
   "source": [
    "env.close()"
   ]
  }
 ],
 "metadata": {
  "kernelspec": {
   "display_name": "venv",
   "language": "python",
   "name": "python3"
  },
  "language_info": {
   "codemirror_mode": {
    "name": "ipython",
    "version": 3
   },
   "file_extension": ".py",
   "mimetype": "text/x-python",
   "name": "python",
   "nbconvert_exporter": "python",
   "pygments_lexer": "ipython3",
   "version": "3.9.13"
  },
  "orig_nbformat": 4,
  "vscode": {
   "interpreter": {
    "hash": "f16131c29eb0336f9f594cef919df1cf28465d7322cb73d3cdbd90477060feb1"
   }
  }
 },
 "nbformat": 4,
 "nbformat_minor": 2
}
